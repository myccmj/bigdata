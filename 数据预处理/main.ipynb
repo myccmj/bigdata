{
 "cells": [
  {
   "cell_type": "code",
   "execution_count": 1,
   "metadata": {},
   "outputs": [],
   "source": [
    "import os\n",
    "import pyspark\n",
    "from pyspark import SparkContext, SparkConf\n",
    "import findspark\n",
    "findspark.init()"
   ]
  },
  {
   "cell_type": "code",
   "execution_count": 2,
   "metadata": {},
   "outputs": [],
   "source": [
    "author_id={}\n",
    "title_id={}\n",
    "node_author=[]\n",
    "edge_title=[]\n",
    "folder_path=r\"C:\\Users\\12031\\Desktop\\data\"\n",
    "files = os.listdir(folder_path)\n",
    "    # 按照文件名的顺序排序\n",
    "files.sort()\n",
    "    # 逐个读取文件\n",
    "for file in files:\n",
    "    with open(os.path.join(folder_path, file), 'r',encoding='utf-8') as f:\n",
    "        line=f.readline()\n",
    "        tmp_author=[]\n",
    "        tmp_title=[]\n",
    "        while line:\n",
    "            if line[0:2]=='AF':\n",
    "                tmp_author.append(line[3:len(line)-1])\n",
    "                line=f.readline()\n",
    "                while line[0:2]=='  ':\n",
    "                    tmp_author.append(line[3:len(line)-1])\n",
    "                    line=f.readline()\n",
    "                for a in tmp_author:\n",
    "                    if a not in author_id.keys():\n",
    "                        author_id[a]=len(author_id)\n",
    "                tmp_title.append(line[3:len(line)-1])\n",
    "                line=f.readline()\n",
    "                while line[0:2]=='  ':\n",
    "                    tmp_title.append(line[3:len(line)-1])\n",
    "                    line=f.readline()\n",
    "                title=' '.join(tmp_title)\n",
    "                for i in range(0,len(tmp_author)):\n",
    "                    for j in range(i+1,len(tmp_author)):\n",
    "                        edge_title.append((author_id[tmp_author[i]],author_id[tmp_author[j]],title))\n",
    "                tmp_author.clear()\n",
    "            line=f.readline()\n",
    "    break           \n",
    "for key,value in author_id.items():\n",
    "    node_author.append((value,key))\n"
   ]
  },
  {
   "cell_type": "code",
   "execution_count": 12,
   "metadata": {},
   "outputs": [
    {
     "name": "stderr",
     "output_type": "stream",
     "text": [
      "C:\\pyspark\\spark-3.5.0-bin-hadoop3\\python\\pyspark\\sql\\dataframe.py:168: UserWarning: DataFrame.sql_ctx is an internal property, and will be removed in future releases. Use DataFrame.sparkSession instead.\n",
      "  warnings.warn(\n"
     ]
    }
   ],
   "source": [
    "from pyspark.sql import SparkSession\n",
    "from graphframes import *\n",
    "# 创建SparkSession对象\n",
    "spark = SparkSession.builder.getOrCreate()\n",
    "\n",
    "# 创建图的顶点和边\n",
    "node_author=[(i,i)for i in range(0,100)]\n",
    "edge_title=[(i,i,i)for i in range(0,100)]\n",
    "vertices = spark.createDataFrame(node_author,['id','name'])\n",
    "edges = spark.createDataFrame(edge_title,['src','dst','name'])\n",
    "\n",
    "# 创建GraphFrame对象\n",
    "graph = GraphFrame(vertices, edges)"
   ]
  },
  {
   "cell_type": "code",
   "execution_count": 15,
   "metadata": {},
   "outputs": [
    {
     "ename": "AttributeError",
     "evalue": "'GraphFrame' object has no attribute 'show'",
     "output_type": "error",
     "traceback": [
      "\u001b[1;31m---------------------------------------------------------------------------\u001b[0m",
      "\u001b[1;31mAttributeError\u001b[0m                            Traceback (most recent call last)",
      "\u001b[1;32mc:\\Users\\12031\\Desktop\\云计算作业\\main.ipynb 单元格 4\u001b[0m line \u001b[0;36m1\n\u001b[1;32m----> <a href='vscode-notebook-cell:/c%3A/Users/12031/Desktop/%E4%BA%91%E8%AE%A1%E7%AE%97%E4%BD%9C%E4%B8%9A/main.ipynb#W3sZmlsZQ%3D%3D?line=0'>1</a>\u001b[0m graph\u001b[39m.\u001b[39;49mshow()\n\u001b[0;32m      <a href='vscode-notebook-cell:/c%3A/Users/12031/Desktop/%E4%BA%91%E8%AE%A1%E7%AE%97%E4%BD%9C%E4%B8%9A/main.ipynb#W3sZmlsZQ%3D%3D?line=1'>2</a>\u001b[0m graph\u001b[39m.\u001b[39minDegrees\u001b[39m.\u001b[39mshow()\n",
      "\u001b[1;31mAttributeError\u001b[0m: 'GraphFrame' object has no attribute 'show'"
     ]
    }
   ],
   "source": [
    "graph.inDegrees.show()"
   ]
  }
 ],
 "metadata": {
  "kernelspec": {
   "display_name": "Python 3 (ipykernel)",
   "language": "python",
   "name": "python3"
  },
  "language_info": {
   "codemirror_mode": {
    "name": "ipython",
    "version": 3
   },
   "file_extension": ".py",
   "mimetype": "text/x-python",
   "name": "python",
   "nbconvert_exporter": "python",
   "pygments_lexer": "ipython3",
   "version": "3.12.0"
  }
 },
 "nbformat": 4,
 "nbformat_minor": 2
}
